{
 "cells": [
  {
   "cell_type": "markdown",
   "metadata": {},
   "source": [
    "💻"
   ]
  },
  {
   "cell_type": "code",
   "execution_count": 3,
   "metadata": {},
   "outputs": [],
   "source": [
    "import requests"
   ]
  },
  {
   "cell_type": "code",
   "execution_count": 1,
   "metadata": {},
   "outputs": [],
   "source": [
    "url = \"https://jobsearch.api.jobtechdev.se\"\n",
    "\n",
    "url_for_search = f\"{url}/search\""
   ]
  },
  {
   "cell_type": "code",
   "execution_count": 4,
   "metadata": {},
   "outputs": [],
   "source": [
    "response = requests.get(url_for_search)"
   ]
  },
  {
   "cell_type": "code",
   "execution_count": null,
   "metadata": {},
   "outputs": [
    {
     "data": {
      "text/plain": [
       "200"
      ]
     },
     "execution_count": 15,
     "metadata": {},
     "output_type": "execute_result"
    }
   ],
   "source": [
    "response.status_code"
   ]
  },
  {
   "cell_type": "code",
   "execution_count": null,
   "metadata": {},
   "outputs": [],
   "source": [
    "data = response.json()\n",
    "# data"
   ]
  },
  {
   "cell_type": "code",
   "execution_count": null,
   "metadata": {},
   "outputs": [
    {
     "data": {
      "text/plain": [
       "{'relevance': 0.0,\n",
       " 'id': '29600083',\n",
       " 'external_id': '46-212000-2627-814111',\n",
       " 'original_id': None,\n",
       " 'label': '[]',\n",
       " 'webpage_url': 'https://arbetsformedlingen.se/platsbanken/annonser/29600083',\n",
       " 'logo_url': 'https://arbetsformedlingen.se/rest/agas/api/v1/organisation/2120002627/logotyper/logo.png',\n",
       " 'headline': 'IT-tekniker,  Äldreomsorgens digitaliseringsenhet',\n",
       " 'application_deadline': '2025-05-01T23:59:59',\n",
       " 'number_of_vacancies': 1,\n",
       " 'description': {'text': 'Äldreomsorgen i Umeå kommun vill i närhet och samspel vara en resurs som frigör och stärker människors förmåga att leva ett självständigt liv.\\n\\n\\r\\n\\r\\nNu söker vi en IT-tekniker till äldreomsorgens digitaliseringsteam med fokus på stöd i hemmet, social interaktion och att göra teknik begriplig och användbar för alla.\\r\\n\\r\\nHär får du arbeta praktiskt med installationer i hemmet, stötta människor i användningen av digital teknik och vara med och forma framtidens omsorg på riktigt. Du som gillar variation, människor och problemlösning kommer att trivas.\\n\\nDigitalisering för en trygg, självständig och hållbar äldreomsorg\\nInom Umeå kommuns äldreomsorg pågår ett målmedvetet och spännande utvecklingsarbete där digitala lösningar spelar en central roll. Genom att integrera teknik i vardagen stärker vi trygghet, kvalitet och möjligheten till ett mer självständigt liv.\\n\\nVårt digitaliseringsteam, bestående av verksamhetsutvecklare, koordinator och IT-tekniker arbetar både strategiskt och praktiskt med att ta fram lösningar som verkligen fungerar i vardagen. Vi tror på teknik som skapar verkligt värde för våra medborgare och medarbetare, och på samverkan som en nyckel till framgång.\\n\\nMed strategin Digitalisera möter vi framtidens behov genom en snabb digital omställning. Vi utvecklar nya arbetssätt, lämnar föråldrade rutiner bakom oss och skapar förutsättningar för en kvalitativ, trygg och en mer hållbar äldreomsorg - med fokus på individens självständighet och behov.\\n\\nVad innebär rollen?\\nI den här tjänsten får du ett omväxlande och viktigt uppdrag. Du arbetar framför allt ute hos den enskilde i deras hem där du installerar teknik, ger stöd och skapar trygghet kring användningen.\\n\\nExempel på arbetsuppgifter:\\n\\nProgrammerar, installera och anpassa digital utrustning, t.ex. välfärdsteknik, trygghetslarm och digitala lås\\nGe praktiskt stöd och utbildning till användare av teknik, på ett enkelt och pedagogiskt sätt\\nSamarbeta med hemtjänst, hemsjukvård och personal på vård och omsorgsboende.\\nSamarbeta med verksamheter som systemförvaltning, Digital omställning och IT samt leverantörer.\\nMedverka i projekt, tester, upphandlingar och kommunikation Hantera service, support, dokumentation och löpande administration\\n\\nDu blir en viktig länk mellan tekniken och människan – och ser till att lösningarna fungerar där de behövs som mest: i vardagen.\\n\\nOm dig\\nVi söker dig som har en eftergymnasial utbildning med IT-inriktning, eller motsvarande erfarenhet inom teknikområdet som arbetsgivaren bedömer likvärdig. Du har ett genuint intresse för teknik, både hårdvara och mjukvara, och är nyfiken på nya system och plattformar. Tidigare erfarenhet av liknande arbetsuppgifter är meriterande, gärna i kombination med viss projektledning. Erfarenhet med att arbeta via dator och digitala verktyg är en självklarhet. Eftersom en del av arbetet har en mer praktisk karaktär är det också viktigt att du inte är främmande för att hantera enklare verktyg eller teknisk utrustning vid exempelvis installationer.\\n\\nFörutom teknikkunskaper lägger vi stor vikt vid dina personliga egenskaper. Du är en problemlösare som ser möjligheter där andra ser hinder. Du är driven, serviceinriktad och kommunikativ, både i tal och skrift. Du trivs med att samarbeta i team men är också trygg med att arbeta självständigt, direkt mot den enskilde användaren. Eftersom arbetet sker nära människor är det viktigt att du är pedagogisk, lyhörd och flexibel, och kan anpassa både ditt språk och ditt arbetssätt efter individuella behov och förutsättningar.\\n\\nTjänsten kräver B-körkort eftersom att du kommer att jobb ute på fält.\\xa0\\n\\n\\nMeriterande är om du har erfarenhet av likande uppdrag samt arbete inom vård och omsorg.\\n\\nVi ser din personlighet, engagemang och samarbetsförmåga som avgörande för att lyckas hos oss.\\n\\nFölj Umeå kommun på Linkedin!\\nOm Umeå kommun\\nUmeå kommun är regionens största arbetsgivare med över 13 000 medarbetare. Kommunen har cirka 440 chefer och verksamheten är indelad i åtta förvaltningar. Våra jobb och vår värdegrund utgår från medborgarfokus, öppenhet, tillit och ständiga förbättringar. Umeå är en kulturstad i ständig utveckling. För att klara målet 200 000 invånare år 2050 behöver vi bli fler som arbetar för tillväxt och välfärd. Vi vet att olikheter berikar och välkomnar alla att söka jobb hos oss. De närmaste tio åren kommer vi att anställa omkring tusen medarbetare varje år. Vill du bli en av oss?\\n\\n\\nHär kan du ta del av hur det är att leva och bo i Umeå: https://www.umea.se/flytta\\n\\nUmeå kommun ingår i tre förvaltningsområden för finska, meänkieli och samiska www.umea.se/minoriteter.\\xa0\\n\\nSom medarbetare hos oss i Umeå kommun kan du ta del av ett antal förmåner. Ta del av våra förmåner https://umea.se/jobbochforetagande/jobbochpraktik/kommunensomarbetsgivare/varaformaner.4.1b4d24fb1752122eb843bf.html\\n\\n\\nSäljer du annonser eller erbjuder rekryteringsstöd? Var vänlig, kontakta inte oss om det! Vi väljer och kontaktar själva företag vi samarbetar med.',\n",
       "  'text_formatted': 'Äldreomsorgen i Umeå kommun vill i närhet och samspel vara en resurs som frigör och stärker människors förmåga att leva ett självständigt liv.\\n\\n\\r\\n\\r\\nNu söker vi en IT-tekniker till äldreomsorgens digitaliseringsteam med fokus på stöd i hemmet, social interaktion och att göra teknik begriplig och användbar för alla.\\r\\n\\r\\nHär får du arbeta praktiskt med installationer i hemmet, stötta människor i användningen av digital teknik och vara med och forma framtidens omsorg på riktigt. Du som gillar variation, människor och problemlösning kommer att trivas.\\n\\nDigitalisering för en trygg, självständig och hållbar äldreomsorg\\nInom Umeå kommuns äldreomsorg pågår ett målmedvetet och spännande utvecklingsarbete där digitala lösningar spelar en central roll. Genom att integrera teknik i vardagen stärker vi trygghet, kvalitet och möjligheten till ett mer självständigt liv.\\n\\nVårt digitaliseringsteam, bestående av verksamhetsutvecklare, koordinator och IT-tekniker arbetar både strategiskt och praktiskt med att ta fram lösningar som verkligen fungerar i vardagen. Vi tror på teknik som skapar verkligt värde för våra medborgare och medarbetare, och på samverkan som en nyckel till framgång.\\n\\nMed strategin Digitalisera möter vi framtidens behov genom en snabb digital omställning. Vi utvecklar nya arbetssätt, lämnar föråldrade rutiner bakom oss och skapar förutsättningar för en kvalitativ, trygg och en mer hållbar äldreomsorg - med fokus på individens självständighet och behov.\\n\\nVad innebär rollen?\\nI den här tjänsten får du ett omväxlande och viktigt uppdrag. Du arbetar framför allt ute hos den enskilde i deras hem där du installerar teknik, ger stöd och skapar trygghet kring användningen.\\n\\nExempel på arbetsuppgifter:\\n\\nProgrammerar, installera och anpassa digital utrustning, t.ex. välfärdsteknik, trygghetslarm och digitala lås\\nGe praktiskt stöd och utbildning till användare av teknik, på ett enkelt och pedagogiskt sätt\\nSamarbeta med hemtjänst, hemsjukvård och personal på vård och omsorgsboende.\\nSamarbeta med verksamheter som systemförvaltning, Digital omställning och IT samt leverantörer.\\nMedverka i projekt, tester, upphandlingar och kommunikation Hantera service, support, dokumentation och löpande administration\\n\\nDu blir en viktig länk mellan tekniken och människan – och ser till att lösningarna fungerar där de behövs som mest: i vardagen.\\n\\nOm dig\\nVi söker dig som har en eftergymnasial utbildning med IT-inriktning, eller motsvarande erfarenhet inom teknikområdet som arbetsgivaren bedömer likvärdig. Du har ett genuint intresse för teknik, både hårdvara och mjukvara, och är nyfiken på nya system och plattformar. Tidigare erfarenhet av liknande arbetsuppgifter är meriterande, gärna i kombination med viss projektledning. Erfarenhet med att arbeta via dator och digitala verktyg är en självklarhet. Eftersom en del av arbetet har en mer praktisk karaktär är det också viktigt att du inte är främmande för att hantera enklare verktyg eller teknisk utrustning vid exempelvis installationer.\\n\\nFörutom teknikkunskaper lägger vi stor vikt vid dina personliga egenskaper. Du är en problemlösare som ser möjligheter där andra ser hinder. Du är driven, serviceinriktad och kommunikativ, både i tal och skrift. Du trivs med att samarbeta i team men är också trygg med att arbeta självständigt, direkt mot den enskilde användaren. Eftersom arbetet sker nära människor är det viktigt att du är pedagogisk, lyhörd och flexibel, och kan anpassa både ditt språk och ditt arbetssätt efter individuella behov och förutsättningar.\\n\\nTjänsten kräver B-körkort eftersom att du kommer att jobb ute på fält.\\xa0\\n\\n\\nMeriterande är om du har erfarenhet av likande uppdrag samt arbete inom vård och omsorg.\\n\\nVi ser din personlighet, engagemang och samarbetsförmåga som avgörande för att lyckas hos oss.\\n\\nFölj Umeå kommun på Linkedin!\\nOm Umeå kommun\\nUmeå kommun är regionens största arbetsgivare med över 13 000 medarbetare. Kommunen har cirka 440 chefer och verksamheten är indelad i åtta förvaltningar. Våra jobb och vår värdegrund utgår från medborgarfokus, öppenhet, tillit och ständiga förbättringar. Umeå är en kulturstad i ständig utveckling. För att klara målet 200 000 invånare år 2050 behöver vi bli fler som arbetar för tillväxt och välfärd. Vi vet att olikheter berikar och välkomnar alla att söka jobb hos oss. De närmaste tio åren kommer vi att anställa omkring tusen medarbetare varje år. Vill du bli en av oss?\\n\\n\\nHär kan du ta del av hur det är att leva och bo i Umeå: https://www.umea.se/flytta\\n\\nUmeå kommun ingår i tre förvaltningsområden för finska, meänkieli och samiska www.umea.se/minoriteter.\\xa0\\n\\nSom medarbetare hos oss i Umeå kommun kan du ta del av ett antal förmåner. Ta del av våra förmåner https://umea.se/jobbochforetagande/jobbochpraktik/kommunensomarbetsgivare/varaformaner.4.1b4d24fb1752122eb843bf.html\\n\\n\\nSäljer du annonser eller erbjuder rekryteringsstöd? Var vänlig, kontakta inte oss om det! Vi väljer och kontaktar själva företag vi samarbetar med.',\n",
       "  'company_information': None,\n",
       "  'needs': None,\n",
       "  'requirements': None,\n",
       "  'conditions': '100%. Tillträde: Enligt överenskommelse\\r\\nTillsvidareanställning'},\n",
       " 'employment_type': {'concept_id': 'PFZr_Syz_cUq',\n",
       "  'label': 'Vanlig anställning',\n",
       "  'legacy_ams_taxonomy_id': '1'},\n",
       " 'salary_type': {'concept_id': 'oG8G_9cW_nRf',\n",
       "  'label': 'Fast månads- vecko- eller timlön',\n",
       "  'legacy_ams_taxonomy_id': '1'},\n",
       " 'salary_description': 'Månadslön',\n",
       " 'duration': {'concept_id': 'a7uU_j21_mkL',\n",
       "  'label': 'Tills vidare',\n",
       "  'legacy_ams_taxonomy_id': '1'},\n",
       " 'working_hours_type': {'concept_id': '6YE1_gAC_R2G',\n",
       "  'label': 'Heltid',\n",
       "  'legacy_ams_taxonomy_id': '1'},\n",
       " 'scope_of_work': {'min': 100, 'max': 100},\n",
       " 'access': None,\n",
       " 'employer': {'phone_number': None,\n",
       "  'email': None,\n",
       "  'url': None,\n",
       "  'organization_number': '2120002627',\n",
       "  'name': 'Umeå kommun',\n",
       "  'workplace': 'Umeå kommun, Äldreomsorg'},\n",
       " 'application_details': {'information': None,\n",
       "  'reference': '2025/239',\n",
       "  'email': None,\n",
       "  'via_af': False,\n",
       "  'url': 'https://umea.varbi.com/what:job/jobID:814111/type:job/where:1/apply:1',\n",
       "  'other': None},\n",
       " 'experience_required': True,\n",
       " 'access_to_own_car': False,\n",
       " 'driving_license_required': True,\n",
       " 'driving_license': [{'concept_id': 'VTK8_WRx_GcM',\n",
       "   'label': 'B',\n",
       "   'legacy_ams_taxonomy_id': '3'}],\n",
       " 'occupation': {'concept_id': 'tdCZ_6Pn_VzT',\n",
       "  'label': 'IT-tekniker/Datatekniker',\n",
       "  'legacy_ams_taxonomy_id': '6625'},\n",
       " 'occupation_group': {'concept_id': '13md_uyV_BNG',\n",
       "  'label': 'Drifttekniker, IT',\n",
       "  'legacy_ams_taxonomy_id': '3511'},\n",
       " 'occupation_field': {'concept_id': 'apaJ_2ja_LuF',\n",
       "  'label': 'Data/IT',\n",
       "  'legacy_ams_taxonomy_id': '3'},\n",
       " 'workplace_address': {'municipality': 'Umeå',\n",
       "  'municipality_code': '2480',\n",
       "  'municipality_concept_id': 'QiGt_BLu_amP',\n",
       "  'region': 'Västerbottens län',\n",
       "  'region_code': '24',\n",
       "  'region_concept_id': 'g5Tt_CAV_zBd',\n",
       "  'country': 'Sverige',\n",
       "  'country_code': '199',\n",
       "  'country_concept_id': 'i46j_HmG_v64',\n",
       "  'street_address': None,\n",
       "  'postcode': None,\n",
       "  'city': None,\n",
       "  'coordinates': [20.263035, 63.825848]},\n",
       " 'must_have': {'skills': [],\n",
       "  'languages': [],\n",
       "  'work_experiences': [{'weight': 10,\n",
       "    'concept_id': 'tdCZ_6Pn_VzT',\n",
       "    'label': 'IT-tekniker/Datatekniker',\n",
       "    'legacy_ams_taxonomy_id': '6625'}],\n",
       "  'education': [],\n",
       "  'education_level': []},\n",
       " 'nice_to_have': {'skills': [],\n",
       "  'languages': [],\n",
       "  'work_experiences': [],\n",
       "  'education': [],\n",
       "  'education_level': []},\n",
       " 'application_contacts': [{'name': None,\n",
       "   'description': 'Elli-Mari Lundgren, enhetschef',\n",
       "   'email': None,\n",
       "   'telephone': '090-166019',\n",
       "   'contact_type': None}],\n",
       " 'publication_date': '2025-04-03T10:17:06',\n",
       " 'last_publication_date': '2025-05-01T23:59:59',\n",
       " 'removed': False,\n",
       " 'removed_date': None,\n",
       " 'source_type': 'VIA_PLATSBANKEN_DXA',\n",
       " 'timestamp': 1743668226913}"
      ]
     },
     "execution_count": 17,
     "metadata": {},
     "output_type": "execute_result"
    }
   ],
   "source": [
    "data[\"hits\"][0]"
   ]
  },
  {
   "cell_type": "code",
   "execution_count": null,
   "metadata": {},
   "outputs": [
    {
     "data": {
      "text/plain": [
       "'IT-tekniker,  Äldreomsorgens digitaliseringsenhet'"
      ]
     },
     "execution_count": 20,
     "metadata": {},
     "output_type": "execute_result"
    }
   ],
   "source": [
    "data[\"hits\"][0][\"headline\"]"
   ]
  },
  {
   "cell_type": "code",
   "execution_count": null,
   "metadata": {},
   "outputs": [
    {
     "data": {
      "text/plain": [
       "dict_keys(['total', 'positions', 'query_time_in_millis', 'result_time_in_millis', 'stats', 'freetext_concepts', 'hits'])"
      ]
     },
     "execution_count": 24,
     "metadata": {},
     "output_type": "execute_result"
    }
   ],
   "source": [
    "query = \"lärare\"\n",
    "search_params = {'q': query, 'limit': 100}\n",
    "\n",
    "respons_query_parameter = requests.get(url_for_search, params= search_params)\n",
    "respons_query_parameter.status_code\n",
    "respons_query_parameter.json().keys()"
   ]
  }
 ],
 "metadata": {
  "kernelspec": {
   "display_name": ".venv",
   "language": "python",
   "name": "python3"
  },
  "language_info": {
   "codemirror_mode": {
    "name": "ipython",
    "version": 3
   },
   "file_extension": ".py",
   "mimetype": "text/x-python",
   "name": "python",
   "nbconvert_exporter": "python",
   "pygments_lexer": "ipython3",
   "version": "3.13.1"
  }
 },
 "nbformat": 4,
 "nbformat_minor": 2
}
