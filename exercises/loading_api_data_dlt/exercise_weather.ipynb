{
 "cells": [
  {
   "cell_type": "markdown",
   "metadata": {},
   "source": [
    "Send API get request"
   ]
  },
  {
   "cell_type": "code",
   "execution_count": 14,
   "metadata": {},
   "outputs": [],
   "source": [
    "import requests\n",
    "import os\n",
    "import datetime\n",
    "\n",
    "weather_api_key = os.getenv(\"WEATHER_API_KEY\")"
   ]
  },
  {
   "cell_type": "code",
   "execution_count": 15,
   "metadata": {},
   "outputs": [],
   "source": [
    "city = \"London\"\n",
    "url = f\"https://api.openweathermap.org/data/2.5/weather?q={city}&appid={weather_api_key}&units=metric\"\n",
    "\n",
    "response = requests.get(url)\n",
    "data = response.json()"
   ]
  },
  {
   "cell_type": "markdown",
   "metadata": {},
   "source": [
    "Difference between return and yield keywords\n",
    "\n",
    "return keyword"
   ]
  },
  {
   "cell_type": "code",
   "execution_count": 16,
   "metadata": {},
   "outputs": [],
   "source": [
    "def fetch_weather(city):\n",
    "    url = f\"https://api.openweathermap.org/data/2.5/weather?q={city}&appid={weather_api_key}&units=metric\"\n",
    "    response = requests.get(url)\n",
    "    if response.status_code == 200:\n",
    "        return response.json()\n",
    "    else:\n",
    "        f\"faild to fetch data for {city}\"\n",
    "    "
   ]
  },
  {
   "cell_type": "code",
   "execution_count": 17,
   "metadata": {},
   "outputs": [
    {
     "name": "stdout",
     "output_type": "stream",
     "text": [
      "None\n"
     ]
    }
   ],
   "source": [
    "print(fetch_weather(\"London\"))"
   ]
  },
  {
   "cell_type": "code",
   "execution_count": 18,
   "metadata": {},
   "outputs": [],
   "source": [
    "def fetch_multiple_cities(cities):\n",
    "    for city in cities:\n",
    "        url = f\"https://api.openweathermap.org/data/2.5/weather?q={city}&appid={weather_api_key}&units=metric\"\n",
    "        response = requests.get(url)\n",
    "        \n",
    "        if response.status_code == 200:\n",
    "            yield response.json()\n",
    "        else:\n",
    "            yield f\"Failed to fetch data for {city}\""
   ]
  },
  {
   "cell_type": "code",
   "execution_count": 19,
   "metadata": {},
   "outputs": [],
   "source": [
    "cities = [\"London\", \"New York\", \"Tokyo\"]\n",
    "\n",
    "weather_generator = fetch_multiple_cities(cities)"
   ]
  },
  {
   "cell_type": "code",
   "execution_count": 20,
   "metadata": {},
   "outputs": [
    {
     "name": "stdout",
     "output_type": "stream",
     "text": [
      "Failed to fetch data for London\n",
      "Failed to fetch data for New York\n",
      "Failed to fetch data for Tokyo\n"
     ]
    }
   ],
   "source": [
    "for weather_data in weather_generator:\n",
    "    print(weather_data)"
   ]
  },
  {
   "cell_type": "markdown",
   "metadata": {},
   "source": [
    "kepp parts of data from raw json data"
   ]
  },
  {
   "cell_type": "code",
   "execution_count": 21,
   "metadata": {},
   "outputs": [],
   "source": [
    "def fetch_multiple_cities(cities):\n",
    "    for city in cities:\n",
    "        url = f\"https://api.openweathermap.org/data/2.5/weather?q={city}&appid={weather_api_key}&units=metric\"\n",
    "        response = requests.get(url)\n",
    "        \n",
    "        if response.status_code == 200:\n",
    "            data = response.json()\n",
    "            timestamp = datetime.datetime.now().strftime(\"%Y/%-m/%-d, %H:%M:%S\")\n",
    "            yield {\"temperature\" : data[\"main\"].get(\"temp\"),\n",
    "            \"timestamp\": timestamp}\n",
    "        else:\n",
    "            yield f\"Failed to fetch data for {city}\""
   ]
  },
  {
   "cell_type": "code",
   "execution_count": 22,
   "metadata": {},
   "outputs": [
    {
     "name": "stdout",
     "output_type": "stream",
     "text": [
      "Failed to fetch data for London\n",
      "Failed to fetch data for New York\n",
      "Failed to fetch data for Tokyo\n"
     ]
    }
   ],
   "source": [
    "weather_generator = fetch_multiple_cities(cities)\n",
    "\n",
    "for weather_data in weather_generator:\n",
    "    print(weather_data)"
   ]
  }
 ],
 "metadata": {
  "kernelspec": {
   "display_name": "Python 3",
   "language": "python",
   "name": "python3"
  },
  "language_info": {
   "codemirror_mode": {
    "name": "ipython",
    "version": 3
   },
   "file_extension": ".py",
   "mimetype": "text/x-python",
   "name": "python",
   "nbconvert_exporter": "python",
   "pygments_lexer": "ipython3",
   "version": "3.13.2"
  }
 },
 "nbformat": 4,
 "nbformat_minor": 2
}
