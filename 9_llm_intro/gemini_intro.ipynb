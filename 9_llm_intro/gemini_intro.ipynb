{
 "cells": [
  {
   "cell_type": "code",
   "execution_count": 6,
   "id": "85c83eea",
   "metadata": {},
   "outputs": [
    {
     "name": "stderr",
     "output_type": "stream",
     "text": [
      "d:\\education\\ai_developer\\ai2_data_engineering_opa24\\.venv\\Lib\\site-packages\\tqdm\\auto.py:21: TqdmWarning: IProgress not found. Please update jupyter and ipywidgets. See https://ipywidgets.readthedocs.io/en/stable/user_install.html\n",
      "  from .autonotebook import tqdm as notebook_tqdm\n"
     ]
    }
   ],
   "source": [
    "import google.generativeai as genai\n",
    "from dotenv import load_dotenv\n",
    "import os\n",
    "\n",
    "load_dotenv() \n",
    "\n",
    "api_key = os.getenv(\"GEMINI_API_KEY\")\n",
    "\n",
    "# print(api_key)\n"
   ]
  },
  {
   "cell_type": "code",
   "execution_count": 7,
   "id": "1b436b87",
   "metadata": {},
   "outputs": [
    {
     "name": "stdout",
     "output_type": "stream",
     "text": [
      "I den skuggiga kanten av den stora Aspeskogen, där solstrålarna knappt trängde igenom de täta lövverken, bodde en liten kanin vid namn Hoppsan. Hoppsan var inte som de andra kaninerna i sin kull. Medan de andra älskade att beta lugnt på klöverängen, föredrog Hoppsan äventyr och utforskning. Hans nos brukade klia av nyfikenhet och hans långa öron vickade konstant, redo att fånga upp det minsta ljud av mysterium.\n",
      "\n",
      "Varje morgon, när solen knappt hade värmt upp daggdropparna på marken, smög Hoppsan ut från sitt trygga bo i roten av en gammal ek. Han lämnade sina sovande syskon och mamma kanin bakom sig och gav sig ut på sina dagliga upptäcktsfärder. Han kände varje krok och skrymsle i skogen, varje stig som slingrade sig genom buskarna och varje grotta som doftade av fuktig jord.\n",
      "\n",
      "En dag, när Hoppsan hoppade genom en tunnel av ormbunkar, snubblade han över något ovanligt. Det var en glittrande, blå sten som låg inbäddad i mossan. Han hade aldrig sett något liknande förut. Vanligtvis hittade han bara vanliga gråa stenar, men den här var lysande och vibrerande av energi. Hoppsan petade försiktigt på den med sin nos.\n",
      "\n",
      "Precis när hans nos rörde stenen, hörde han ett svagt, tickande ljud. Han hoppade bakåt, förvånad. \"Vem är där?\" pep han med en skakig röst.\n",
      "\n",
      "Ingen svarade. Men tickandet fortsatte, och det kom närmare. Hoppsan följde ljudet tills han kom fram till en trång passage mellan två stora stenar. Han krypte in och hittade... en gammal, rostig fickur! Uret låg på marken, omgiven av fallna löv och smuts.\n",
      "\n",
      "Hoppsan förstod ingenting om fickur, men han kände sig dragen till den. Han rörde vid den med tassen, och plötsligt kände han en svag pirrande känsla genom hela kroppen. Han kände sig... snabbare.\n",
      "\n",
      "Han testade och tog ett hopp. Det var inte bara ett hopp, det var en skicklighet! Han hoppade högre och längre än han någonsin gjort förut. Den blå stenen och den rostiga fickuren hade gett honom superkrafter!\n",
      "\n",
      "Med sin nya förmåga bestämde sig Hoppsan för att använda sina krafter för att hjälpa andra. Han såg en liten ekorre fast på en gren, oförmögen att komma ner. Hoppsan hoppade lätt upp till grenen och hjälpte den rädda ekorren ner. Han hittade en fågelunge som hade fallit ur sitt bo och placerade den försiktigt tillbaka.\n",
      "\n",
      "Hoppsan blev känd i hela skogen. De andra kaninerna slutade kalla honom för en dagdrömmare och såg honom som en hjälte. Ekorrarna gav honom hasselnötter som tack och fåglarna sjöng vackra sånger för honom varje morgon.\n",
      "\n",
      "Men Hoppsan visste att han inte kunde behålla krafterna för evigt. Han kände att de sakta avtog, energin sipprade bort. Han visste att det var dags att återvända till den blå stenen och fickuren.\n",
      "\n",
      "Han återvände till den trånga passagen och plockade upp fickuret. Tickandet hade tystnat för länge sedan. Han tog ett sista hopp, den här gången inte lika högt eller långt som tidigare, och placerade fickuret tillbaka där han hade hittat det. Han lade också den blå stenen bredvid.\n",
      "\n",
      "Hoppsan återvände till sitt bo, bara en vanlig kanin igen. Han var inte längre snabbare eller starkare, men han bar med sig minnet av sina äventyr och vetskapen om att han hade gjort gott. Han hade visat hela Aspeskogen att även den minsta kanin kan göra stor skillnad, även om det bara är för en kort stund. Och det var allt som räknades. Han kröp in bredvid sina syskon och somnade, drömmande om blå stenar, rostiga fickur och de äventyr som väntade, även utan superkrafter.\n",
      "\n"
     ]
    }
   ],
   "source": [
    "genai.configure(api_key=os.getenv(\"GEMINI_API_KEY\"))\n",
    "\n",
    "model = genai.GenerativeModel(\"gemini-2.0-flash\")\n",
    "\n",
    "prompt = \"Ge mig en historia om en kanin som bor i skogen.\"\n",
    "\n",
    "response = model.generate_content(prompt)\n",
    "\n",
    "# response.text\n",
    "\n",
    "print(response.text)\n",
    "\n"
   ]
  },
  {
   "cell_type": "markdown",
   "id": "0cf523e0",
   "metadata": {},
   "source": [
    "## Prompt engineering (Basic)\n",
    "\n",
    "- Hur ska gemini arbeta -> vilken roll ska den ha\n",
    "- kriterier - regler\n",
    "- exempel - one shoot learning, \n",
    "- formatera outputen ex json output, bullet point"
   ]
  },
  {
   "cell_type": "code",
   "execution_count": 8,
   "id": "21118657",
   "metadata": {},
   "outputs": [
    {
     "name": "stdout",
     "output_type": "stream",
     "text": [
      "Data Engineer \n",
      "Sweden Â· Reposted 20 hours ago Â· 21 people clicked apply\n",
      "HybridMatches your job preferences, workplace type is Hybrid.  Mid-Senior level\n",
      "Skills: Data Science, Data Engineering, +8 more\n",
      "Curious where you stand? See how you compare to 21 others who clicked apply. Retry Premium for SEK0\n",
      "\n",
      "Apply\n",
      "\n",
      "Save\n",
      "Save Data Engineer  at Svenska Spel\n",
      "Data Engineer\n",
      "Svenska Spel Â· Sweden (Hybrid)\n",
      "\n",
      "Apply\n",
      "\n",
      "Save\n",
      "Save Data Engineer  at Svenska Spel\n",
      "Show more options\n",
      "About the job\n",
      "Svenska Spel Ã¤r nu inne i en transformation kring decentraliserat arbetssÃ¤tt med inspiration frÃ¥n Data Mesh, dÃ¤r data betraktas som en produkt. Dataprodukterna vill vi ska vara vÃ¤l beskrivna, konsumentvÃ¤nliga och de utvecklas decentraliserat ute i de olika teamen dÃ¤r data uppstÃ¥r runt om i vÃ¥rt IT-landskap.\n",
      "\n",
      "Vi sÃ¶ker nu en Data Engineer som vill vara med och forma och utfÃ¶ra denna fÃ¶rflyttning med oss. Kanske Ã¤r det du?\n",
      "\n",
      "Vad kommer du att gÃ¶ra?\n",
      "\n",
      "Ett antal dataprodukter finns nu tillgÃ¤ngliga i Svenska Spels Data Lake, sÃ¶kbart och dokumenterat i en datakatalog. Arbetet med att gÃ¶ra dataprodukter tar nu fart pÃ¥ allvar. HÃ¤r behÃ¶ver vi hjÃ¤lp.\n",
      "\n",
      "Som Data Engineer blir du viktig i denna transformation. Du kommer ha nÃ¤ra kontakt med dataproducenter och fÃ¶ra fram konsumentperspektivet, du kommer fÃ¶ra fram vÃ¤rdet av data och vara en ambassadÃ¶r fÃ¶r vÃ¥r fÃ¶rflyttning.\n",
      "\n",
      "Du kommer transformera vÃ¥rt Data Warehouse till att nyttja bÃ¤ttre kÃ¤lldata, med tydliga kontrakt och Ã¤gandeskap. Att renodla och fÃ¶renkla. Du kommer att arbeta med att infÃ¶ra produkttÃ¤nk Ã¤ven i vÃ¥r leverans frÃ¥n Data Warehouse. SÃ¥ att vi ocksÃ¥ lever som vi lÃ¤r. Att erbjuda datakonsumenter ett rikare utbud av data fÃ¥r oss att bli mer datadrivna och innovativa och dÃ¤rmed starkare. Inte minst fÃ¶r att vÃ¥ra kunder ska fÃ¥ en glÃ¤djefull och trygg spelupplevelse hos oss.\n",
      "\n",
      "Ã„r du den som kommer att gÃ¶ra det?\n",
      "\n",
      "Som person Ã¤r du framÃ¥tlutad och gillar att jobba i en organisation och med teknik som Ã¤r i stÃ¤ndig fÃ¶rÃ¤ndring. Du tar dig mer Ã¤n gÃ¤rna an nya kluriga uppgifter och driver gÃ¤rna pÃ¥ arbetet tillsammans med dina kollegor med glimten i Ã¶gat.\n",
      "\n",
      "FÃ¶r att lyckas ser vi att du har erfarenhet av fÃ¶ljande:\n",
      "\n",
      "Infrastruktur i molnet\n",
      "Programmering i Python\n",
      "DevOps\n",
      "ETL-arbete\n",
      "\n",
      "Extra Meriterande Om Du OcksÃ¥ Har Erfarenhet Av\n",
      "\n",
      "Produktifiering av data enligt Data Mesh eller liknande Data Management-strategi\n",
      "BigQuery\n",
      "SQL\n",
      "Terraform\n",
      "Dataform\n",
      "\n",
      "Om Tech pÃ¥ Svenska Spel\n",
      "\n",
      "PÃ¥ Svenska Spel hanterar vi 10 000 000 transaktioner varje dag, Ã¥ret runt och pÃ¥ sex dagar har vi hanterat samma transaktionsvolym som den stÃ¶rsta pengaÃ¶verfÃ¶ringsappen gÃ¶r pÃ¥ en mÃ¥nad. Varje dag utvecklar, driftar och supportar vi ett av vÃ¤rldens mest avancerade spelsystem, vi Ã¤r med andra ord ett techbolag som sysslar med spel - inte tvÃ¤rtom. Och som ett techbolag som sysslar med spel kommer ett ansvar, bÃ¥de fÃ¶r folks drÃ¶mmar och spÃ¤nning, men Ã¤ven fÃ¶r deras spelande. Det Ã¤r ocksÃ¥ dÃ¤rfÃ¶r du kommer mÃ¤rka att vÃ¥rt spelansvarsarbete genomsyrar hela fÃ¶retaget frÃ¥n fÃ¶rsta dagen du bÃ¶rjar jobba hos oss.\n",
      "\n",
      "Vi Ã¤r Svenska Spel \n",
      "\n",
      "Svenska Spel Ã¤r hela Sveriges spelbolag. Vi skapar hÃ¥llbara och roliga spelupplevelser som bidrar till ett bÃ¤ttre Sverige. Genom spel som Triss, Stryktipset och Oddset ger vi vÃ¥ra fyra miljoner kunder spÃ¤nning, glÃ¤dje och drÃ¶mmar. VÃ¥ra spel Ã¤r enkla och trygga och oavsett om man spelar online eller fysiskt, sjÃ¤lv eller tillsammans med andra, sÃ¥ ska upplevelsen alltid vara positiv. Vi vill att fler ska spela hÃ¥llbart hos oss och vÃ¥r verksamhet ska bedrivas pÃ¥ ett socialt, ekonomiskt och miljÃ¶mÃ¤ssigt ansvarsfullt sÃ¤tt. Varje Ã¥r gÃ¥r Ã¶verskottet till statskassan. Vi Ã¤r Sveriges stÃ¶rsta idrottssponsor och investerar nÃ¤ra 300 miljoner kronor Ã¥rligen i svensk idrott. Vi Ã¤r modiga, nyfikna och strÃ¤var efter enkelhet i allt vi gÃ¶r samt skapar resultat tillsammans.\n",
      "\n",
      "Ã„r du nyfiken pÃ¥ vÃ¥ra fÃ¶rmÃ¥ner? DÃ¥ hittar du dem hÃ¤r:\n",
      "\n",
      "https://career.svenskaspel.se/pages/formaner\n",
      "\n",
      "\n",
      "\n",
      "AnsÃ¶kan och kontaktuppgifter\n",
      "\n",
      "TjÃ¤nsten Ã¤r en tillsvidareanstÃ¤llning med placering i Visby eller Solna/Stockholm med mÃ¶jlighet till flexibelt distansarbete. PÃ¥ Svenska Spel utfÃ¶r vi jobbet dÃ¤r det passar bÃ¤st, ibland Ã¤r det i hemmet och ibland pÃ¥ nÃ¥got av vÃ¥ra kontor. I maj flyttar vi dessutom frÃ¥n vÃ¥rt kontor i Solna in till nya frÃ¤scha lokaler vid Slussen.\n",
      "\n",
      "FÃ¶r frÃ¥gor om tjÃ¤nsten, kontakta Michael Olofsson, Chef Data & Analytics, michael.olofsson@svenskaspel.se\n",
      "\n",
      "FÃ¶r frÃ¥gor om rekryteringsprocessen, kontakta Team Talent Acquisition, teamta@svenskaspel.se\n",
      "\n",
      "Vi utfÃ¶r intervjuer och urval lÃ¶pande sÃ¥ tveka inte med att skicka in din ansÃ¶kan.\n",
      "\n"
     ]
    }
   ],
   "source": [
    "with open(\"annons.txt\", \"r\") as file:\n",
    "    ad_text = file.read()\n",
    "\n",
    "print(ad_text)"
   ]
  },
  {
   "cell_type": "code",
   "execution_count": 9,
   "id": "cda311f4",
   "metadata": {},
   "outputs": [
    {
     "name": "stdout",
     "output_type": "stream",
     "text": [
      "Svenska Spel seeks a Data Engineer\n",
      "to help with their data mesh transformation.\n",
      "\n",
      "The role involves working with data products\n",
      "in their Data Lake.\n",
      "\n",
      "The Data Engineer will advocate for data value\n",
      "and improve the Data Warehouse.\n",
      "\n",
      "Experience with cloud infrastructure, Python, DevOps,\n",
      "and ETL is required.\n",
      "\n",
      "The position is permanent\n",
      "and offers flexible, remote work options in Sweden.\n",
      "\n"
     ]
    }
   ],
   "source": [
    "prompt = f\"\"\"\n",
    "Summarize this text in 5 sentences:\n",
    "\n",
    "{ad_text}\n",
    "\n",
    "Put in 2 new lines per sentence, make the scentence shorter \n",
    "\"\"\"\n",
    "\n",
    "response = model.generate_content(prompt)\n",
    "print(response.text)\n"
   ]
  },
  {
   "cell_type": "code",
   "execution_count": 10,
   "id": "aa98bfa5",
   "metadata": {},
   "outputs": [
    {
     "name": "stdout",
     "output_type": "stream",
     "text": [
      "Absolut, här är en sammanställning av de efterfrågade erfarenheterna, presenterade på det sätt du önskar:\n",
      "\n",
      "```json\n",
      "{\n",
      "    \"krav\": [\n",
      "        \"Infrastruktur i molnet\",\n",
      "        \"Programmering i Python\",\n",
      "        \"DevOps\",\n",
      "        \"ETL-arbete\"\n",
      "    ],\n",
      "    \"meriterande\": [\n",
      "        \"Produktifiering av data enligt Data Mesh eller liknande Data Management-strategi\",\n",
      "        \"BigQuery\",\n",
      "        \"SQL\",\n",
      "        \"Terraform\",\n",
      "        \"Dataform\"\n",
      "    ]\n",
      "}\n",
      "```\n",
      "\n"
     ]
    }
   ],
   "source": [
    "prompt = f\"\"\"\n",
    "Du är en rykreterare inom data engeenering, science and analytics.\n",
    "Plocka ut alla erfarneheter som efterfrågas i denna jobbannons.\n",
    "\n",
    "{ad_text}\n",
    "\n",
    "Put in 2 new lines per sentence, make the scentence shorter \n",
    "\n",
    "{{\n",
    "    \"krav\": [erfarenhet, erfarenhet 2]\n",
    "    \"meriterande\": [erfarenhet, erfarenhet 2]\n",
    "}}\n",
    "\"\"\"\n",
    "\n",
    "response = model.generate_content(prompt)\n",
    "print(response.text)"
   ]
  }
 ],
 "metadata": {
  "kernelspec": {
   "display_name": ".venv",
   "language": "python",
   "name": "python3"
  },
  "language_info": {
   "codemirror_mode": {
    "name": "ipython",
    "version": 3
   },
   "file_extension": ".py",
   "mimetype": "text/x-python",
   "name": "python",
   "nbconvert_exporter": "python",
   "pygments_lexer": "ipython3",
   "version": "3.12.8"
  }
 },
 "nbformat": 4,
 "nbformat_minor": 5
}
