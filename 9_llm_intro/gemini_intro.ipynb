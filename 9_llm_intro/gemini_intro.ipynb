{
 "cells": [
  {
   "cell_type": "code",
   "execution_count": 11,
   "id": "85c83eea",
   "metadata": {},
   "outputs": [],
   "source": [
    "import google.generativeai as genai\n",
    "from dotenv import load_dotenv\n",
    "import os\n",
    "\n",
    "load_dotenv() \n",
    "\n",
    "api_key = os.getenv(\"GEMINI_API_KEY\")\n",
    "\n",
    "# print(api_key)\n"
   ]
  },
  {
   "cell_type": "code",
   "execution_count": 12,
   "id": "1b436b87",
   "metadata": {},
   "outputs": [
    {
     "name": "stdout",
     "output_type": "stream",
     "text": [
      "I den gläntande, smaragdgröna skogen, där solljuset silade genom trädens lövverk som flytande guld, bodde en liten kanin vid namn Pip. Pip var inte som de andra kaninerna i sin kull. Medan de älskade att skutta runt och gnaga på saftiga klöverblad, drömde Pip om äventyr. Han ville se bortom den bekanta ängen, bortom de snåriga buskagen och ner i de djupaste, mörkaste delarna av skogen.\n",
      "\n",
      "Han bodde med sin stora familj i en labyrint av underjordiska gångar, ett hem som grävts ur av generationer av kaniner. Mamma Kanin varnade honom ständigt: \"Pip, håll dig nära hemmet! Skogen är full av faror. Rävar, ugglor och elaka illrar lurar runt varje hörn!\"\n",
      "\n",
      "Men Pips nyfikenhet var starkare än hans rädsla. En dag, när familjen sov middagssömn, smög han sig ut. Han hoppade försiktigt framåt, hans små morrhår vibrerade när han sniffade luften. Skogen var fylld av nya dofter: fuktig jord, söta bär och en svag, mystisk doft som han inte kunde identifiera.\n",
      "\n",
      "Han följde en slingrande stig, kantad av höga ormbunkar och mossbeklädda stenar. Han såg ekorrar som kvittrade från trädtopparna och en familj av hjortar som drack lugnt från en bäck. Allt var nytt och spännande.\n",
      "\n",
      "Plötsligt hörde han ett lågt morrande. Pip stelnade till is, hans öron spetsade. Genom buskarna såg han en stor, röd räv som slickade sig om munnen. Räven hade inte sett honom än.\n",
      "\n",
      "Paniken slog rot i Pips bröst. Han tänkte på sin mammas varningar och ångrade bittert att han hade smitit ut. Han visste att han inte kunde springa fortare än räven. Han behövde en plan.\n",
      "\n",
      "Han såg sig snabbt omkring. Bredvid honom låg en stor, ihålig stock. Snabbt som vinden hoppade Pip in i stocken och kröp så långt in som han kunde. Han höll andan och pressade sig mot den kalla, fuktiga träväggen.\n",
      "\n",
      "Räven kom närmare och sniffade runt stocken. Pip kunde höra dess tunga andetag. Han var säker på att han skulle bli upptäckt. Sekunderna kändes som evigheter.\n",
      "\n",
      "Efter vad som verkade som en livstid gav räven upp och lunkade vidare. Pip låg stilla i stocken, och väntade tills han var säker på att räven var borta. Sedan smög han försiktigt ut och sprang tillbaka mot familjens trygga bo.\n",
      "\n",
      "Han kom fram andfådd och skakig. Han berättade inte för sin familj om sin äventyr, eller om den skrämmande mötet med räven. Han visste att de bara skulle bli oroliga.\n",
      "\n",
      "Den natten kunde Pip inte sova. Han tänkte på räven och på hur nära han hade varit att bli fångad. Men han tänkte också på den vackra skogen, på de nya dofterna och ljuden.\n",
      "\n",
      "Han insåg att äventyr var spännande, men att säkerheten också var viktig. Han skulle fortfarande drömma om att utforska skogen, men han skulle vara mer försiktig. Han skulle lyssna på sin mammas varningar och aldrig glömma att även den vackraste plats kan dölja faror.\n",
      "\n",
      "Och så, Pip, den lilla kaninen med äventyrliga drömmar, växte upp i skogen, klokare och mer respektfull för den vilda världen omkring sig. Han lärde sig att nyfikenhet och äventyr kan vara fantastiska, men att säkerhet och sunt förnuft är ännu viktigare, speciellt i en skog full av liv och faror.\n",
      "\n"
     ]
    }
   ],
   "source": [
    "genai.configure(api_key=os.getenv(\"GEMINI_API_KEY\"))\n",
    "\n",
    "model = genai.GenerativeModel(\"gemini-2.0-flash\")\n",
    "\n",
    "prompt = \"Ge mig en historia om en kanin som bor i skogen.\"\n",
    "\n",
    "response = model.generate_content(prompt)\n",
    "\n",
    "# response.text\n",
    "\n",
    "print(response.text)\n",
    "\n"
   ]
  },
  {
   "cell_type": "markdown",
   "id": "0cf523e0",
   "metadata": {},
   "source": [
    "## Prompt engineering (Basic)\n",
    "\n",
    "- Hur ska gemini arbeta -> vilken roll ska den ha\n",
    "- kriterier - regler\n",
    "- exempel - one shoot learning, \n",
    "- formatera outputen ex json output, bullet point"
   ]
  },
  {
   "cell_type": "code",
   "execution_count": 13,
   "id": "21118657",
   "metadata": {},
   "outputs": [
    {
     "name": "stdout",
     "output_type": "stream",
     "text": [
      "Data Engineer \n",
      "Sweden Â· Reposted 20 hours ago Â· 21 people clicked apply\n",
      "HybridMatches your job preferences, workplace type is Hybrid.  Mid-Senior level\n",
      "Skills: Data Science, Data Engineering, +8 more\n",
      "Curious where you stand? See how you compare to 21 others who clicked apply. Retry Premium for SEK0\n",
      "\n",
      "Apply\n",
      "\n",
      "Save\n",
      "Save Data Engineer  at Svenska Spel\n",
      "Data Engineer\n",
      "Svenska Spel Â· Sweden (Hybrid)\n",
      "\n",
      "Apply\n",
      "\n",
      "Save\n",
      "Save Data Engineer  at Svenska Spel\n",
      "Show more options\n",
      "About the job\n",
      "Svenska Spel Ã¤r nu inne i en transformation kring decentraliserat arbetssÃ¤tt med inspiration frÃ¥n Data Mesh, dÃ¤r data betraktas som en produkt. Dataprodukterna vill vi ska vara vÃ¤l beskrivna, konsumentvÃ¤nliga och de utvecklas decentraliserat ute i de olika teamen dÃ¤r data uppstÃ¥r runt om i vÃ¥rt IT-landskap.\n",
      "\n",
      "Vi sÃ¶ker nu en Data Engineer som vill vara med och forma och utfÃ¶ra denna fÃ¶rflyttning med oss. Kanske Ã¤r det du?\n",
      "\n",
      "Vad kommer du att gÃ¶ra?\n",
      "\n",
      "Ett antal dataprodukter finns nu tillgÃ¤ngliga i Svenska Spels Data Lake, sÃ¶kbart och dokumenterat i en datakatalog. Arbetet med att gÃ¶ra dataprodukter tar nu fart pÃ¥ allvar. HÃ¤r behÃ¶ver vi hjÃ¤lp.\n",
      "\n",
      "Som Data Engineer blir du viktig i denna transformation. Du kommer ha nÃ¤ra kontakt med dataproducenter och fÃ¶ra fram konsumentperspektivet, du kommer fÃ¶ra fram vÃ¤rdet av data och vara en ambassadÃ¶r fÃ¶r vÃ¥r fÃ¶rflyttning.\n",
      "\n",
      "Du kommer transformera vÃ¥rt Data Warehouse till att nyttja bÃ¤ttre kÃ¤lldata, med tydliga kontrakt och Ã¤gandeskap. Att renodla och fÃ¶renkla. Du kommer att arbeta med att infÃ¶ra produkttÃ¤nk Ã¤ven i vÃ¥r leverans frÃ¥n Data Warehouse. SÃ¥ att vi ocksÃ¥ lever som vi lÃ¤r. Att erbjuda datakonsumenter ett rikare utbud av data fÃ¥r oss att bli mer datadrivna och innovativa och dÃ¤rmed starkare. Inte minst fÃ¶r att vÃ¥ra kunder ska fÃ¥ en glÃ¤djefull och trygg spelupplevelse hos oss.\n",
      "\n",
      "Ã„r du den som kommer att gÃ¶ra det?\n",
      "\n",
      "Som person Ã¤r du framÃ¥tlutad och gillar att jobba i en organisation och med teknik som Ã¤r i stÃ¤ndig fÃ¶rÃ¤ndring. Du tar dig mer Ã¤n gÃ¤rna an nya kluriga uppgifter och driver gÃ¤rna pÃ¥ arbetet tillsammans med dina kollegor med glimten i Ã¶gat.\n",
      "\n",
      "FÃ¶r att lyckas ser vi att du har erfarenhet av fÃ¶ljande:\n",
      "\n",
      "Infrastruktur i molnet\n",
      "Programmering i Python\n",
      "DevOps\n",
      "ETL-arbete\n",
      "\n",
      "Extra Meriterande Om Du OcksÃ¥ Har Erfarenhet Av\n",
      "\n",
      "Produktifiering av data enligt Data Mesh eller liknande Data Management-strategi\n",
      "BigQuery\n",
      "SQL\n",
      "Terraform\n",
      "Dataform\n",
      "\n",
      "Om Tech pÃ¥ Svenska Spel\n",
      "\n",
      "PÃ¥ Svenska Spel hanterar vi 10 000 000 transaktioner varje dag, Ã¥ret runt och pÃ¥ sex dagar har vi hanterat samma transaktionsvolym som den stÃ¶rsta pengaÃ¶verfÃ¶ringsappen gÃ¶r pÃ¥ en mÃ¥nad. Varje dag utvecklar, driftar och supportar vi ett av vÃ¤rldens mest avancerade spelsystem, vi Ã¤r med andra ord ett techbolag som sysslar med spel - inte tvÃ¤rtom. Och som ett techbolag som sysslar med spel kommer ett ansvar, bÃ¥de fÃ¶r folks drÃ¶mmar och spÃ¤nning, men Ã¤ven fÃ¶r deras spelande. Det Ã¤r ocksÃ¥ dÃ¤rfÃ¶r du kommer mÃ¤rka att vÃ¥rt spelansvarsarbete genomsyrar hela fÃ¶retaget frÃ¥n fÃ¶rsta dagen du bÃ¶rjar jobba hos oss.\n",
      "\n",
      "Vi Ã¤r Svenska Spel \n",
      "\n",
      "Svenska Spel Ã¤r hela Sveriges spelbolag. Vi skapar hÃ¥llbara och roliga spelupplevelser som bidrar till ett bÃ¤ttre Sverige. Genom spel som Triss, Stryktipset och Oddset ger vi vÃ¥ra fyra miljoner kunder spÃ¤nning, glÃ¤dje och drÃ¶mmar. VÃ¥ra spel Ã¤r enkla och trygga och oavsett om man spelar online eller fysiskt, sjÃ¤lv eller tillsammans med andra, sÃ¥ ska upplevelsen alltid vara positiv. Vi vill att fler ska spela hÃ¥llbart hos oss och vÃ¥r verksamhet ska bedrivas pÃ¥ ett socialt, ekonomiskt och miljÃ¶mÃ¤ssigt ansvarsfullt sÃ¤tt. Varje Ã¥r gÃ¥r Ã¶verskottet till statskassan. Vi Ã¤r Sveriges stÃ¶rsta idrottssponsor och investerar nÃ¤ra 300 miljoner kronor Ã¥rligen i svensk idrott. Vi Ã¤r modiga, nyfikna och strÃ¤var efter enkelhet i allt vi gÃ¶r samt skapar resultat tillsammans.\n",
      "\n",
      "Ã„r du nyfiken pÃ¥ vÃ¥ra fÃ¶rmÃ¥ner? DÃ¥ hittar du dem hÃ¤r:\n",
      "\n",
      "https://career.svenskaspel.se/pages/formaner\n",
      "\n",
      "\n",
      "\n",
      "AnsÃ¶kan och kontaktuppgifter\n",
      "\n",
      "TjÃ¤nsten Ã¤r en tillsvidareanstÃ¤llning med placering i Visby eller Solna/Stockholm med mÃ¶jlighet till flexibelt distansarbete. PÃ¥ Svenska Spel utfÃ¶r vi jobbet dÃ¤r det passar bÃ¤st, ibland Ã¤r det i hemmet och ibland pÃ¥ nÃ¥got av vÃ¥ra kontor. I maj flyttar vi dessutom frÃ¥n vÃ¥rt kontor i Solna in till nya frÃ¤scha lokaler vid Slussen.\n",
      "\n",
      "FÃ¶r frÃ¥gor om tjÃ¤nsten, kontakta Michael Olofsson, Chef Data & Analytics, michael.olofsson@svenskaspel.se\n",
      "\n",
      "FÃ¶r frÃ¥gor om rekryteringsprocessen, kontakta Team Talent Acquisition, teamta@svenskaspel.se\n",
      "\n",
      "Vi utfÃ¶r intervjuer och urval lÃ¶pande sÃ¥ tveka inte med att skicka in din ansÃ¶kan.\n",
      "\n"
     ]
    }
   ],
   "source": [
    "with open(\"annons.txt\", \"r\") as file:\n",
    "    ad_text = file.read()\n",
    "\n",
    "print(ad_text)"
   ]
  },
  {
   "cell_type": "code",
   "execution_count": 14,
   "id": "cda311f4",
   "metadata": {},
   "outputs": [
    {
     "name": "stdout",
     "output_type": "stream",
     "text": [
      "Svenska Spel is seeking a Data Engineer for a hybrid, mid-senior level role.\n",
      "\n",
      "The company is undergoing a data mesh transformation, treating data as a product.\n",
      "\n",
      "The Data Engineer will shape and execute this shift, working closely with data producers.\n",
      "\n",
      "Key responsibilities include transforming the Data Warehouse and advocating for data value.\n",
      "\n",
      "Experience with cloud infrastructure, Python, DevOps, and ETL is required, with data productification being a plus.\n",
      "\n"
     ]
    }
   ],
   "source": [
    "prompt = f\"\"\"\n",
    "Summarize this text in 5 sentences:\n",
    "\n",
    "{ad_text}\n",
    "\n",
    "Put in 2 new lines per sentence, make the scentence shorter \n",
    "\"\"\"\n",
    "\n",
    "response = model.generate_content(prompt)\n",
    "print(response.text)\n"
   ]
  },
  {
   "cell_type": "code",
   "execution_count": 15,
   "id": "aa98bfa5",
   "metadata": {},
   "outputs": [
    {
     "name": "stdout",
     "output_type": "stream",
     "text": [
      "Okej, här är en lista över erfarenheter som efterfrågas och anses meriterande, baserat på jobbannonsen.\n",
      "\n",
      "**Krav:**\n",
      "\n",
      "*   Erfarenhet av infrastruktur i molnet.\n",
      "\n",
      "*   Programmering i Python.\n",
      "\n",
      "*   Erfarenhet av DevOps.\n",
      "\n",
      "*   Erfarenhet av ETL-arbete.\n",
      "\n",
      "**Meriterande:**\n",
      "\n",
      "*   Erfarenhet av produktifiering av data enligt Data Mesh eller liknande Data Management-strategi.\n",
      "\n",
      "*   Erfarenhet av BigQuery.\n",
      "\n",
      "*   Kunskaper i SQL.\n",
      "\n",
      "*   Erfarenhet av Terraform.\n",
      "\n",
      "*   Erfarenhet av Dataform.\n",
      "\n"
     ]
    }
   ],
   "source": [
    "prompt = f\"\"\"\n",
    "Du är en rykreterare inom data engeenering, science and analytics.\n",
    "Plocka ut alla erfarneheter som efterfrågas i denna jobbannons.\n",
    "\n",
    "{ad_text}\n",
    "\n",
    "Put in 2 new lines per sentence, make the scentence shorter \n",
    "\n",
    "{{\n",
    "    \"krav\": [erfarenhet, erfarenhet 2]\n",
    "    \"meriterande\": [erfarenhet, erfarenhet 2]\n",
    "}}\n",
    "\"\"\"\n",
    "\n",
    "response = model.generate_content(prompt)\n",
    "print(response.text)"
   ]
  }
 ],
 "metadata": {
  "kernelspec": {
   "display_name": ".venv",
   "language": "python",
   "name": "python3"
  },
  "language_info": {
   "codemirror_mode": {
    "name": "ipython",
    "version": 3
   },
   "file_extension": ".py",
   "mimetype": "text/x-python",
   "name": "python",
   "nbconvert_exporter": "python",
   "pygments_lexer": "ipython3",
   "version": "3.12.8"
  }
 },
 "nbformat": 4,
 "nbformat_minor": 5
}
